{
 "cells": [
  {
   "cell_type": "code",
   "execution_count": 123,
   "metadata": {},
   "outputs": [],
   "source": [
    "from transformers import pipeline\n",
    "from nltk import sent_tokenize\n",
    "import torch\n",
    "from glob import glob\n"
   ]
  },
  {
   "cell_type": "code",
   "execution_count": 2,
   "metadata": {},
   "outputs": [],
   "source": [
    "import pandas as pd\n",
    "import numpy as np"
   ]
  },
  {
   "cell_type": "markdown",
   "metadata": {},
   "source": [
    "# Load Model"
   ]
  },
  {
   "cell_type": "code",
   "execution_count": 90,
   "metadata": {},
   "outputs": [],
   "source": [
    "model_name = \"facebook/bart-large-mnli\"\n",
    "device = 0 if torch.cuda.is_available() else 'cpu'"
   ]
  },
  {
   "cell_type": "code",
   "execution_count": 92,
   "metadata": {},
   "outputs": [],
   "source": [
    "def load_model(device):\n",
    "    theme_classifier = pipeline(\n",
    "        \"zero-shot-classification\",\n",
    "        model=model_name,\n",
    "        device=device\n",
    "    )\n",
    "\n",
    "    return theme_classifier"
   ]
  },
  {
   "cell_type": "code",
   "execution_count": 93,
   "metadata": {},
   "outputs": [],
   "source": [
    "theme_classifier = load_model(device)"
   ]
  },
  {
   "cell_type": "code",
   "execution_count": 6,
   "metadata": {},
   "outputs": [],
   "source": [
    "theme_list = [\"friendship\",\"hope\",\"sacrifice\",\"battle\",\"self development\",\"betrayal\",\"love\",\"dialogue\"]"
   ]
  },
  {
   "cell_type": "code",
   "execution_count": 11,
   "metadata": {},
   "outputs": [
    {
     "data": {
      "text/plain": [
       "{'sequence': 'I gave him a right hook then a left jab',\n",
       " 'labels': ['battle',\n",
       "  'self development',\n",
       "  'hope',\n",
       "  'sacrifice',\n",
       "  'dialogue',\n",
       "  'betrayal',\n",
       "  'love',\n",
       "  'friendship'],\n",
       " 'scores': [0.9121254086494446,\n",
       "  0.47500181198120117,\n",
       "  0.0878182053565979,\n",
       "  0.045000456273555756,\n",
       "  0.020132921636104584,\n",
       "  0.012040475383400917,\n",
       "  0.0042923809960484505,\n",
       "  0.002817221451550722]}"
      ]
     },
     "execution_count": 11,
     "metadata": {},
     "output_type": "execute_result"
    }
   ],
   "source": [
    "theme_classifier(\n",
    "    \"I gave him a right hook then a left jab\",\n",
    "    theme_list,\n",
    "    multi_label=True\n",
    ")"
   ]
  },
  {
   "cell_type": "code",
   "execution_count": null,
   "metadata": {},
   "outputs": [],
   "source": []
  },
  {
   "cell_type": "markdown",
   "metadata": {},
   "source": [
    "# Load Dataset"
   ]
  },
  {
   "cell_type": "code",
   "execution_count": 14,
   "metadata": {},
   "outputs": [],
   "source": [
    "df = pd.read_csv(\"C:/work/ml/analyze_series_with_NLP/data/GOT.csv\")"
   ]
  },
  {
   "cell_type": "code",
   "execution_count": 15,
   "metadata": {},
   "outputs": [],
   "source": [
    "df = df.drop(['Release Date','Episode Title'] , axis=1)"
   ]
  },
  {
   "cell_type": "code",
   "execution_count": 16,
   "metadata": {},
   "outputs": [
    {
     "data": {
      "text/html": [
       "<div>\n",
       "<style scoped>\n",
       "    .dataframe tbody tr th:only-of-type {\n",
       "        vertical-align: middle;\n",
       "    }\n",
       "\n",
       "    .dataframe tbody tr th {\n",
       "        vertical-align: top;\n",
       "    }\n",
       "\n",
       "    .dataframe thead th {\n",
       "        text-align: right;\n",
       "    }\n",
       "</style>\n",
       "<table border=\"1\" class=\"dataframe\">\n",
       "  <thead>\n",
       "    <tr style=\"text-align: right;\">\n",
       "      <th></th>\n",
       "      <th>Season</th>\n",
       "      <th>Episode</th>\n",
       "      <th>Name</th>\n",
       "      <th>Sentence</th>\n",
       "    </tr>\n",
       "  </thead>\n",
       "  <tbody>\n",
       "    <tr>\n",
       "      <th>0</th>\n",
       "      <td>Season 1</td>\n",
       "      <td>Episode 1</td>\n",
       "      <td>waymar royce</td>\n",
       "      <td>What do you expect? They're savages. One lot s...</td>\n",
       "    </tr>\n",
       "    <tr>\n",
       "      <th>1</th>\n",
       "      <td>Season 1</td>\n",
       "      <td>Episode 1</td>\n",
       "      <td>will</td>\n",
       "      <td>I've never seen wildlings do a thing like this...</td>\n",
       "    </tr>\n",
       "    <tr>\n",
       "      <th>2</th>\n",
       "      <td>Season 1</td>\n",
       "      <td>Episode 1</td>\n",
       "      <td>waymar royce</td>\n",
       "      <td>How close did you get?</td>\n",
       "    </tr>\n",
       "    <tr>\n",
       "      <th>3</th>\n",
       "      <td>Season 1</td>\n",
       "      <td>Episode 1</td>\n",
       "      <td>will</td>\n",
       "      <td>Close as any man would.</td>\n",
       "    </tr>\n",
       "    <tr>\n",
       "      <th>4</th>\n",
       "      <td>Season 1</td>\n",
       "      <td>Episode 1</td>\n",
       "      <td>gared</td>\n",
       "      <td>We should head back to the wall.</td>\n",
       "    </tr>\n",
       "  </tbody>\n",
       "</table>\n",
       "</div>"
      ],
      "text/plain": [
       "     Season    Episode          Name  \\\n",
       "0  Season 1  Episode 1  waymar royce   \n",
       "1  Season 1  Episode 1          will   \n",
       "2  Season 1  Episode 1  waymar royce   \n",
       "3  Season 1  Episode 1          will   \n",
       "4  Season 1  Episode 1         gared   \n",
       "\n",
       "                                            Sentence  \n",
       "0  What do you expect? They're savages. One lot s...  \n",
       "1  I've never seen wildlings do a thing like this...  \n",
       "2                             How close did you get?  \n",
       "3                            Close as any man would.  \n",
       "4                   We should head back to the wall.  "
      ]
     },
     "execution_count": 16,
     "metadata": {},
     "output_type": "execute_result"
    }
   ],
   "source": [
    "df.head()"
   ]
  },
  {
   "cell_type": "code",
   "execution_count": 17,
   "metadata": {},
   "outputs": [],
   "source": [
    "# Create a new column with both season and episode info for each row\n",
    "df['season_episode'] = (df['Season'].str.split(' ').str[1].astype(int) - 1) * 10 + df['Episode'].str.split(' ').str[1].astype(int)\n",
    "\n"
   ]
  },
  {
   "cell_type": "code",
   "execution_count": 18,
   "metadata": {},
   "outputs": [
    {
     "data": {
      "text/html": [
       "<div>\n",
       "<style scoped>\n",
       "    .dataframe tbody tr th:only-of-type {\n",
       "        vertical-align: middle;\n",
       "    }\n",
       "\n",
       "    .dataframe tbody tr th {\n",
       "        vertical-align: top;\n",
       "    }\n",
       "\n",
       "    .dataframe thead th {\n",
       "        text-align: right;\n",
       "    }\n",
       "</style>\n",
       "<table border=\"1\" class=\"dataframe\">\n",
       "  <thead>\n",
       "    <tr style=\"text-align: right;\">\n",
       "      <th></th>\n",
       "      <th>Season</th>\n",
       "      <th>Episode</th>\n",
       "      <th>Name</th>\n",
       "      <th>Sentence</th>\n",
       "      <th>season_episode</th>\n",
       "    </tr>\n",
       "  </thead>\n",
       "  <tbody>\n",
       "    <tr>\n",
       "      <th>0</th>\n",
       "      <td>Season 1</td>\n",
       "      <td>Episode 1</td>\n",
       "      <td>waymar royce</td>\n",
       "      <td>What do you expect? They're savages. One lot s...</td>\n",
       "      <td>1</td>\n",
       "    </tr>\n",
       "    <tr>\n",
       "      <th>1</th>\n",
       "      <td>Season 1</td>\n",
       "      <td>Episode 1</td>\n",
       "      <td>will</td>\n",
       "      <td>I've never seen wildlings do a thing like this...</td>\n",
       "      <td>1</td>\n",
       "    </tr>\n",
       "    <tr>\n",
       "      <th>2</th>\n",
       "      <td>Season 1</td>\n",
       "      <td>Episode 1</td>\n",
       "      <td>waymar royce</td>\n",
       "      <td>How close did you get?</td>\n",
       "      <td>1</td>\n",
       "    </tr>\n",
       "    <tr>\n",
       "      <th>3</th>\n",
       "      <td>Season 1</td>\n",
       "      <td>Episode 1</td>\n",
       "      <td>will</td>\n",
       "      <td>Close as any man would.</td>\n",
       "      <td>1</td>\n",
       "    </tr>\n",
       "    <tr>\n",
       "      <th>4</th>\n",
       "      <td>Season 1</td>\n",
       "      <td>Episode 1</td>\n",
       "      <td>gared</td>\n",
       "      <td>We should head back to the wall.</td>\n",
       "      <td>1</td>\n",
       "    </tr>\n",
       "  </tbody>\n",
       "</table>\n",
       "</div>"
      ],
      "text/plain": [
       "     Season    Episode          Name  \\\n",
       "0  Season 1  Episode 1  waymar royce   \n",
       "1  Season 1  Episode 1          will   \n",
       "2  Season 1  Episode 1  waymar royce   \n",
       "3  Season 1  Episode 1          will   \n",
       "4  Season 1  Episode 1         gared   \n",
       "\n",
       "                                            Sentence  season_episode  \n",
       "0  What do you expect? They're savages. One lot s...               1  \n",
       "1  I've never seen wildlings do a thing like this...               1  \n",
       "2                             How close did you get?               1  \n",
       "3                            Close as any man would.               1  \n",
       "4                   We should head back to the wall.               1  "
      ]
     },
     "execution_count": 18,
     "metadata": {},
     "output_type": "execute_result"
    }
   ],
   "source": [
    "df.head()"
   ]
  },
  {
   "cell_type": "code",
   "execution_count": 19,
   "metadata": {},
   "outputs": [],
   "source": [
    "df_a = df.drop(['Season','Episode'],axis=1)"
   ]
  },
  {
   "cell_type": "code",
   "execution_count": 20,
   "metadata": {},
   "outputs": [],
   "source": [
    "df_a['Sentence'] = df_a['Sentence'].astype(str)"
   ]
  },
  {
   "cell_type": "code",
   "execution_count": 12,
   "metadata": {},
   "outputs": [],
   "source": [
    "df_a = df_a.groupby('season_episode')['Sentence'].agg(' '.join).reset_index()\n"
   ]
  },
  {
   "cell_type": "code",
   "execution_count": 21,
   "metadata": {},
   "outputs": [
    {
     "data": {
      "text/html": [
       "<div>\n",
       "<style scoped>\n",
       "    .dataframe tbody tr th:only-of-type {\n",
       "        vertical-align: middle;\n",
       "    }\n",
       "\n",
       "    .dataframe tbody tr th {\n",
       "        vertical-align: top;\n",
       "    }\n",
       "\n",
       "    .dataframe thead th {\n",
       "        text-align: right;\n",
       "    }\n",
       "</style>\n",
       "<table border=\"1\" class=\"dataframe\">\n",
       "  <thead>\n",
       "    <tr style=\"text-align: right;\">\n",
       "      <th></th>\n",
       "      <th>Name</th>\n",
       "      <th>Sentence</th>\n",
       "      <th>season_episode</th>\n",
       "    </tr>\n",
       "  </thead>\n",
       "  <tbody>\n",
       "    <tr>\n",
       "      <th>0</th>\n",
       "      <td>waymar royce</td>\n",
       "      <td>What do you expect? They're savages. One lot s...</td>\n",
       "      <td>1</td>\n",
       "    </tr>\n",
       "    <tr>\n",
       "      <th>1</th>\n",
       "      <td>will</td>\n",
       "      <td>I've never seen wildlings do a thing like this...</td>\n",
       "      <td>1</td>\n",
       "    </tr>\n",
       "    <tr>\n",
       "      <th>2</th>\n",
       "      <td>waymar royce</td>\n",
       "      <td>How close did you get?</td>\n",
       "      <td>1</td>\n",
       "    </tr>\n",
       "    <tr>\n",
       "      <th>3</th>\n",
       "      <td>will</td>\n",
       "      <td>Close as any man would.</td>\n",
       "      <td>1</td>\n",
       "    </tr>\n",
       "    <tr>\n",
       "      <th>4</th>\n",
       "      <td>gared</td>\n",
       "      <td>We should head back to the wall.</td>\n",
       "      <td>1</td>\n",
       "    </tr>\n",
       "  </tbody>\n",
       "</table>\n",
       "</div>"
      ],
      "text/plain": [
       "           Name                                           Sentence  \\\n",
       "0  waymar royce  What do you expect? They're savages. One lot s...   \n",
       "1          will  I've never seen wildlings do a thing like this...   \n",
       "2  waymar royce                             How close did you get?   \n",
       "3          will                            Close as any man would.   \n",
       "4         gared                   We should head back to the wall.   \n",
       "\n",
       "   season_episode  \n",
       "0               1  \n",
       "1               1  \n",
       "2               1  \n",
       "3               1  \n",
       "4               1  "
      ]
     },
     "execution_count": 21,
     "metadata": {},
     "output_type": "execute_result"
    }
   ],
   "source": [
    "df_a.head()"
   ]
  },
  {
   "cell_type": "code",
   "execution_count": 78,
   "metadata": {},
   "outputs": [],
   "source": [
    "def load_subtitles_dataset(dataset_path):\n",
    "    df = pd.read_csv(dataset_path)\n",
    "    df['season_episode'] = (df['Season'].str.split(' ').str[1].astype(int) - 1) * 10 + df['Episode'].str.split(' ').str[1].astype(int)\n",
    "    df_a = df.drop(['Season','Episode','Name','Release Date','Episode Title'],axis=1)\n",
    "    df_a['Sentence'] = df_a['Sentence'].astype(str)\n",
    "    df_a = df_a.groupby('season_episode')['Sentence'].agg(' '.join).reset_index()\n",
    "    df_a.rename(columns={'Sentence':'Subtitles'},inplace=True)\n",
    "    \n",
    "    \n",
    "\n",
    "\n",
    "    return df_a"
   ]
  },
  {
   "cell_type": "code",
   "execution_count": 22,
   "metadata": {},
   "outputs": [],
   "source": [
    "def load_subtitles_dataset_classified(dataset_path):\n",
    "    df = pd.read_csv(dataset_path)\n",
    "    df['season_episode'] = (df['Season'].str.split(' ').str[1].astype(int) - 1) * 10 + df['Episode'].str.split(' ').str[1].astype(int)\n",
    "    df_a = df.drop(['Season','Episode','Release Date','Episode Title'],axis=1)\n",
    "    df_a['Sentence'] = df_a['Sentence'].astype(str)\n",
    "    df_a.rename(columns={'Sentence':'Subtitles'},inplace=True)\n",
    "    \n",
    "    return df_a"
   ]
  },
  {
   "cell_type": "code",
   "execution_count": 23,
   "metadata": {},
   "outputs": [
    {
     "data": {
      "text/html": [
       "<div>\n",
       "<style scoped>\n",
       "    .dataframe tbody tr th:only-of-type {\n",
       "        vertical-align: middle;\n",
       "    }\n",
       "\n",
       "    .dataframe tbody tr th {\n",
       "        vertical-align: top;\n",
       "    }\n",
       "\n",
       "    .dataframe thead th {\n",
       "        text-align: right;\n",
       "    }\n",
       "</style>\n",
       "<table border=\"1\" class=\"dataframe\">\n",
       "  <thead>\n",
       "    <tr style=\"text-align: right;\">\n",
       "      <th></th>\n",
       "      <th>Name</th>\n",
       "      <th>Subtitles</th>\n",
       "      <th>season_episode</th>\n",
       "    </tr>\n",
       "  </thead>\n",
       "  <tbody>\n",
       "    <tr>\n",
       "      <th>0</th>\n",
       "      <td>waymar royce</td>\n",
       "      <td>What do you expect? They're savages. One lot s...</td>\n",
       "      <td>1</td>\n",
       "    </tr>\n",
       "    <tr>\n",
       "      <th>1</th>\n",
       "      <td>will</td>\n",
       "      <td>I've never seen wildlings do a thing like this...</td>\n",
       "      <td>1</td>\n",
       "    </tr>\n",
       "    <tr>\n",
       "      <th>2</th>\n",
       "      <td>waymar royce</td>\n",
       "      <td>How close did you get?</td>\n",
       "      <td>1</td>\n",
       "    </tr>\n",
       "    <tr>\n",
       "      <th>3</th>\n",
       "      <td>will</td>\n",
       "      <td>Close as any man would.</td>\n",
       "      <td>1</td>\n",
       "    </tr>\n",
       "    <tr>\n",
       "      <th>4</th>\n",
       "      <td>gared</td>\n",
       "      <td>We should head back to the wall.</td>\n",
       "      <td>1</td>\n",
       "    </tr>\n",
       "  </tbody>\n",
       "</table>\n",
       "</div>"
      ],
      "text/plain": [
       "           Name                                          Subtitles  \\\n",
       "0  waymar royce  What do you expect? They're savages. One lot s...   \n",
       "1          will  I've never seen wildlings do a thing like this...   \n",
       "2  waymar royce                             How close did you get?   \n",
       "3          will                            Close as any man would.   \n",
       "4         gared                   We should head back to the wall.   \n",
       "\n",
       "   season_episode  \n",
       "0               1  \n",
       "1               1  \n",
       "2               1  \n",
       "3               1  \n",
       "4               1  "
      ]
     },
     "execution_count": 23,
     "metadata": {},
     "output_type": "execute_result"
    }
   ],
   "source": [
    "df_test = load_subtitles_dataset_classified(\"C:/work/ml/analyze_series_with_NLP/data/GOT.csv\")\n",
    "df_test.head()"
   ]
  },
  {
   "cell_type": "code",
   "execution_count": 79,
   "metadata": {},
   "outputs": [],
   "source": [
    "dataset_path = \"C:/work/ml/analyze_series_with_NLP/data/GOT.csv\"\n",
    "df = load_subtitles_dataset(dataset_path)"
   ]
  },
  {
   "cell_type": "code",
   "execution_count": 80,
   "metadata": {},
   "outputs": [
    {
     "data": {
      "text/html": [
       "<div>\n",
       "<style scoped>\n",
       "    .dataframe tbody tr th:only-of-type {\n",
       "        vertical-align: middle;\n",
       "    }\n",
       "\n",
       "    .dataframe tbody tr th {\n",
       "        vertical-align: top;\n",
       "    }\n",
       "\n",
       "    .dataframe thead th {\n",
       "        text-align: right;\n",
       "    }\n",
       "</style>\n",
       "<table border=\"1\" class=\"dataframe\">\n",
       "  <thead>\n",
       "    <tr style=\"text-align: right;\">\n",
       "      <th></th>\n",
       "      <th>season_episode</th>\n",
       "      <th>Subtitles</th>\n",
       "    </tr>\n",
       "  </thead>\n",
       "  <tbody>\n",
       "    <tr>\n",
       "      <th>0</th>\n",
       "      <td>1</td>\n",
       "      <td>What do you expect? They're savages. One lot s...</td>\n",
       "    </tr>\n",
       "    <tr>\n",
       "      <th>1</th>\n",
       "      <td>2</td>\n",
       "      <td>You need to drink, child... And eat. Isn't the...</td>\n",
       "    </tr>\n",
       "    <tr>\n",
       "      <th>2</th>\n",
       "      <td>3</td>\n",
       "      <td>Welcome, Lord Stark. Grand Maester Pycelle has...</td>\n",
       "    </tr>\n",
       "    <tr>\n",
       "      <th>3</th>\n",
       "      <td>4</td>\n",
       "      <td>The little Lordo s been dreaming again. We hav...</td>\n",
       "    </tr>\n",
       "    <tr>\n",
       "      <th>4</th>\n",
       "      <td>5</td>\n",
       "      <td>Does Ser Hugh have any family in the capital? ...</td>\n",
       "    </tr>\n",
       "  </tbody>\n",
       "</table>\n",
       "</div>"
      ],
      "text/plain": [
       "   season_episode                                          Subtitles\n",
       "0               1  What do you expect? They're savages. One lot s...\n",
       "1               2  You need to drink, child... And eat. Isn't the...\n",
       "2               3  Welcome, Lord Stark. Grand Maester Pycelle has...\n",
       "3               4  The little Lordo s been dreaming again. We hav...\n",
       "4               5  Does Ser Hugh have any family in the capital? ..."
      ]
     },
     "execution_count": 80,
     "metadata": {},
     "output_type": "execute_result"
    }
   ],
   "source": [
    "df.head()"
   ]
  },
  {
   "cell_type": "code",
   "execution_count": null,
   "metadata": {},
   "outputs": [],
   "source": []
  },
  {
   "cell_type": "markdown",
   "metadata": {},
   "source": [
    "Run Model"
   ]
  },
  {
   "cell_type": "code",
   "execution_count": 81,
   "metadata": {},
   "outputs": [],
   "source": [
    "script = df.iloc[0]['Subtitles']"
   ]
  },
  {
   "cell_type": "code",
   "execution_count": 82,
   "metadata": {},
   "outputs": [
    {
     "data": {
      "text/plain": [
       "\"What do you expect? They're savages. One lot steals a goat from another lot and before you know it, they're ripping each other to pieces. I've never seen wildlings do a thing like this. I've never seen a thing like this, not ever in my life. How close did you get? Close as any man would. We should head back to the wall. Do the dead frighten you? Our orders were to track the wildlings. We tracked them. They won't trouble us no more. You don't think he'll ask us how they died? Get back on your horse. Whatever did it to them could do it to us. They even killed the children. It's a good thing we're not children. You want to run away south, run away. Of course, they will behead you as a deserter … If I don't catch you first. Get back on your horse. I won't say it again. Your dead men seem to have moved camp. They were here. See where they went. What is it? It's … Go on. Father's watching. And your mother. Fine work, as always. Well done. Thank you. I love the detail that you've managed to get in this corners. … Quite beautiful … the stitching … And which one of you was a marksman at ten? Keep practicing, Bran. Go on. Don't think too much, Bran. Relax your bow arm. Quick, Bran, faster! Lord Stark. My lady. A guardsman just rode in from the hills. They've captured a deserter from the Night's Watch. Get the lads to saddle their horses. Do you have to? He swore an oath, Cat. The law is law, my lady. Tell Bran he's coming, too. Ned. Ten is too young to see such things. He won't be a boy forever. And winter is coming. Lad, go run back and get the rest. White Walkers. I saw the White Walkers. White Walkers. The White Walkers, I saw them. I know I broke my oath. And I know I'm a deserter. I should have gone back to the Wall and warned them. But I saw what I saw. I saw the White Walkers. People need to know. If you can get word to my family, tell them I'm no coward. Tell them I'm sorry. nods yes, and WILL is positioned on the tree limb that serves as a block. Forgive me, lord. In the name of Robert of the House Baratheon, first of his name … Don't look away. King of the Andals and the First Men … Father will know if you do. Lord of the Seven Kingdoms and protector of the realm, I, Eddard of the House Stark, Lord of Winterfell and Warden of the North, sentence you to die. You did well. You understand why I did it? Jon said he was a deserter. But do you understand why I had to kill him? Our way is the old way? The man who passes the sentence should swing the sword. Is it true he saw the White Walkers? The White Walkers have been gone for thousands of years. So he was lying? A madman sees what he sees. What is it? Mountain lion? There are no mountain lions in these woods. It's a freak. It's a direwolf. Tough old beast. There are no direwolves south of the Wall. Now there are five. You want to hold it? Where will they go? Their mother's dead. They don't belong down here. Better a quick death. They won't last without their mother. Right. Give it here. NO! Put away your blade. I take orders from your father, not you. Please, father! I'm sorry, Bran. Lord Stark? There are five pups. One for each of the Stark children. The direwolf is the sigil of your House. They were meant to have them. You will train them yourselves. You will feed them yourselves. And if they die, you will bury them yourselves. What about you? I'm not a Stark. Get on. What is it? The runt of the litter. That one's yours, Snow. As your brother, I feel it's my duty to warn you And you never worry about anything. When we were seven, you jumped off the cliffs as Casterly Rock. One hundred foot drop into the water. And you were never afraid. There was nothing to be afraid of until you told father. [In a whisper, mimicking] We're Lannisters. Lannisters don't act like fools. What if Jon Arryn told someone? But who would he tell? My husband. If he told the king, both our heads would be skewered on the city gates by now. Whatever Jon Arryn knew or didn't know, it died with him. And Robert will choose a new Hand of the king, someone to do his job while he's off fucking boars and hunting whores. Or is it the other way around? And life will go on. You should be the Hand of the king. That's an honor I can do without. Their days are too long, their lives are too short. All these years and I still feel like an outsider when I come here. You have five northern children. You're not an outsider. I wonder if the old gods agree. It's your gods with all the rules. I am so sorry, my love. Tell me. There was a raven from Kings Landing. Jon Arryn is dead. A fever took him. I know he was like a father to you. Your sister. The boy … They both have their health. Gods be good. [pause] The raven brought more news. The king rides for Winterfell. With the queen and all the rest of them. He's coming this far North, there's only one thing he's after. You can always say no, Ned. We need plenty of candles for Lord Tyrion's chamber. I'm told he reads all night. I'm told he drinks all night. How much could he possibly drink? A man of his … stature. We've brought up eight barrels of ale from the cellar. Perhaps we'll find out. In any case, candles. Why's your mother so dead-set on us getting pretty for the king? It's for the queen, I bet. I hear she's [sleek as a mink?] I hear the prince is a right royal prick. Think of all those southern girls he gets to stab with his right royal prick. Go on, Tommy, shave him good. He's never met a girl he likes better than his own hair. Gods, but they grow fast. [Seeing BRAN on the wall] Brandon! I saw the king! He's got hundreds of people! How many times have I told you But he's coming right now! Down our road! I want you to promise me I promise. D'you know what? What? You always look at your feet before you lie. Run and find your father. Tell him the king is close. Where's Arya? Sansa, where's your sister? Hey,, hey, hey, hey. What are you doing with that on? [Pulls off ARYA's helm] Move! Your Grace. You've got fat. Cat! Your Grace. Nine years. Why haven't I seen you? Where the hell have you been? Guarding the North for you, Your Grace. Winterfell is yours. Where's the Imp? Will you shut up? Who have we here? You must be Robb. My, you're a pretty one. Your name is? Arya. Ooh. Show us your muscles. You'll be a soldier. That's Jaime Lannister. The queen's twin brother. Would you please shut up. My queen. My queen. Take me to your crypt. I want to pay my respects. We've been riding for a month, my love. Surely the dead can wait. Ned. Where is our brother? Go find the little beast. Tell me about Jon Arryn. One minute he was fine, and then … Burned right through him, whatever it was. I loved that man. We both did. He never had to teach you much, but me … You remember me at 16? All I wanted to do was crack skulls and fuck girls. He showed me what was what. Aye. Don't look at me like that. Not his fault I didn't listen. I need you, Ned. Down at Kings Landing. Not up here, where you're no damn use to anybody. Lord Eddard Stark, I would name you the Hand of the king. I'm not worthy of the honor. I'm not trying to honor you. I'm trying to get you to run my kingdom while I eat, drink, and whore my way to an early grave. Damn it, Ned, stand up. You helped me win the Iron Throne, now help me keep the damn thing. We were meant to rule together. If your sister had lived, we would have been bound by blood. Well, it's not too late. I have a son, you have a daughter. We'll join our Houses. Mmh. It is true what they say about the Northern girls. Did you hear the king's in Winterfell? I did hear something about that. And the queen. And her twin brother. They say that he is the most handsome man in the Seven Kingdoms. And the other brother? The queen has two brothers? There's the pretty one. And there's the clever one. I hear they call him the Imp. I hear he hates that nickname. Oh? I hear he's more than earned it. I hear he's a drunken little lecher into all manner of perversions. Clever girl. We've been expecting you, Lord Tyrion. Have you? The gods gave me one blessing. Don't get up. M'lord. Should I explain to you the meaning of a closed door in a whorehouse, brother? You've much to teach me, no doubt. But our sister craves your attention. She has odd cravings, our sister. A family trait. Now, the Starks are feasting us at sundown. Don't leave me alone with these people. I'm sorry, I've begun the feast a bit early. And this is the first of many courses. I thought you might say that. But since we're short on time, Come on, girls. See you at sundown. Close the door! Did you have to bury her in a place like this? She should be on a hill somewhere with the sun and the clouds above her. She was my sister. This is where she belongs. She belonged with me. In my dreams, I kill him every night. It's done, Your Grace. The Targaryens are gone. Not all of them. Daenerys! Daenerys! There's our bride to be! Look – a gift from Illyrio. Touch it. Come on. Feel the fabric. Mmmm. Isn't he a gracious host? We've been his guests for over a year and he's never asked us for anything. Illyrio is no fool. He knows I won't forget my friends when I come into my throne. You still slouch. Let me see. You have a woman's body now. I need you to be perfect today. Can you do that for me? You don't want to wake the dragon, do you? No. When they write the history of my reign, sweet sister, they will say it began today. It's too hot, my lady. Where is he? The Dothraki are not known for their punctuality. May I present my honored guests? Viserys of House Targaryen, the third of his name. The rightful King of the Andals and the First Men. And his sister, Daenerys, of the House Targaryen. Do you see how long his hair is? When Dothraki are defeated in combat, they cut off their braid so the whole world can see their shame. Khal Drogo has never been defeated. He's a savage, of course, but he's one of the finest killers alive. And you will be his queen. Come forward, my dear. Where's he going? The ceremony is over. But he didn't say anything. Did he like her? Trust me, Your Grace. If he didn't like her, we'd know. It won't be long now. Soon you will cross the Narrow Sea and take back your father's throne. The people drink secret toasts to your health. They cry out for their true king. When will they be married? Soon. The Dothraki never stay still for long. Is it true they lie with their horses? I wouldn't ask Khal Drogo. Do you take me for a fool? I take you for a king. Kings lack the caution of common men. My apologies if I've given offense. I know how to play a man like Drogo. I give him a queen and he gives me an army. I don't want to be his queen. I want to go home. So do I. I want us both to go home. But they took it from us. So tell me, sweet sister, how do we go home? I don't know. We go home with an army. With Khal Drogo's army. I would let his whole tribe fuck you, all 40,000 men and their horses too, if that's what it took. Do you think Joffrey will like me? What if he thinks I'm ugly? Then he is the stupidest prince that ever lived. He's so handsome. When would we be married? Soon or do we have to wait? Hush now. Your father hasn't even said yes. Why would he say no? He'd be the second most powerful man in the kingdoms. He'd have to leave home. He'd have to leave me. And so would you. You left your home to come here. And I'd be queen someday. Please make father say yes. Sansa… Please, please. It's the only thing I ever wanted. Is he dead yet? Uncle Benjen! You got bigger. I rode all day. Didn't want to leave you alone with the Lannisters. Why aren't you at the feast? Lady Stark thought it might insult the royal family to seat a bastard in their midst. Well, you're always welcome on the wall. No bastard was ever refused a seat there. So take me with you when you go back. Jon… Father will let me if you ask him, I know he will. The Wall isn't going anywhere. I'm ready to swear your oath. You don't understand what you'd be giving up. We have no families. None of us will ever father sons. I don't care about that. You might, if you knew what it meant. … I'd better get inside. Rescue your father from his guests. We'll talk later. Your uncle's in the Night's Watch. What're you doing back there? Preparing for a night with your family. I've always wanted to see the Wall. You're Tyrion Lannister. The queen's brother? My greatest accomplishment. You – you're Ned Stark's bastard, aren't you? Did I offend you? Sorry. You are the bastard, though. Lord Eddard Stark is my father. And Lady Stark is not your mother. Making you a bastard. Let me give you some advice, bastard. Never forget what you are. The rest of the world will not. Wear it like armor. Then it can never be used to hurt you. What the hell do you know about being a bastard? All dwarves are bastards in their fathers' eyes. You at a feast -- It's like a bear in a trap. The boy I beheaded. Did you know him? Of course I did. Just a lad. But he was tough, Ned. A true Ranger. He was talking madness. Said the Walkers slaughtered his friends. The two he was with are still missing. A wildling ambush. Maybe. Direwolves south of the wall. Talk of the Walkers. My brother might be the next Hand to the king. Winter is coming. Winter is coming. Uncle Benjen. Robb boy. How are ye? I'm good. Is this your first time in the North, Your Grace? Yes. Lovely country. I'm sure it's very grim, after Kings Landing. I remember how scared I was when Ned brought me up here for the first time. Hello, little dove. But you are a beauty. How old are you? Thirteen, Your Grace. You're tall. Still growing? I think so, Your Grace. And have you bled yet? No, Your Grace. And your dress. Did you make it? Such talent. You must make something for me. I hear we might share a grandchild someday. I hear the same. Your daughter will do well in the capital. Such a beauty shouldn't stay hidden up here forever. Your pardon. I hear we might be neighbors soon. I hope it's true. Yes, the king has honored me with his offer. I'm sure we'll have a tournament to celebrate the new title, if you accept. It would be good to have you in the field. The competition has become a bit stale. I don't fight in tournaments. No? Getting a little old for it? I don't fight in tournaments because when I fight a man for real, I don't want him to know what I can do. Well said. Arya! Time for bed. I'm a Northman. I belong here with you, not down south in that rat's nest they call a capital. I won't let him take you. The king takes what he wants. That's why he's king. I'll say, ‘Listen, fat man, you are not taking my husband anywhere. He belongs to me now.' How did he get so fat? He only stops eating when it's time for a drink. It's Maester Luwin, my lord. Send him in. Pardon, my lord, my lady. A rider in the night from your sister. Stay. This was sent from the Eyrie. What's she doing at the Eyrie? She hasn't been back there since her wedding. What news? She's fled the capital. She says Jon Arryn was murdered. By the Lannisters. She says the king is in danger. She's fresh widowed, Cat. She doesn't know what she's saying. Lysa's head would be on a spike right now if the wrong people had found that letter. Do you think she would risk her life, her son's life, if she wasn't certain her husband was murdered? If this news is true, and the Lannisters conspire against the throne, who but you can protect the king? They murdered the last Hand. Now you want Ned to take the job. The king rode for a month to ask Lord Stark's help. He's the only one he trusts. You swore the king an oath, my lord. He spent half his life fighting Robert's wars. He owes him nothing. Your father and brother rode south once on a king's demand. A different time. Different king. When do I meet with the Khal? We need to begin planning the invasion. If Khal Drogo has promised you a crown, you shall have it. When? When their omens favor war. I piss on Dothraki omens. I waited 17 years to get my throne back. A Dothraki wedding without at least three deaths is considered a dull affair. A small gift for the new Khaleesi. Songs and histories from the Seven Kingdoms. Thank you, ser. Are you from my country? Ser Jorah Mormont of Bear Island. I served your father for many years. Gods be good, I hope to always serve the rightful king. Dragons' eggs, Daenerys. From the Shadow Lands beyond Asshai. The ages have turned them to stone, but they will always be beautiful. Thank you, Magister. She's beautiful. … Ser Jorah, I don't know how to say ‘thank you' in Dothraki. There is no word for ‘thank you' in Dothraki. Make him happy. No. Do you know the Common Tongue? Is ‘no' the only word that you know? Rough night, Imp? If I get through this without squirting from one end or the other, it will be a miracle. I didn't pick you for a hunter. The greatest in the land. My spear never misses. It's not hunting if you pay for it. Are you as good with a spear as you used to be? No, but I'm still better than you. I know what I'm putting you through. Thank you for saying yes. I only ask you because I need you. You're a loyal friend. You hear me? A loyal friend. The last one I've got. I hope I'll serve you well. You will. And I'll make sure you don't look so fucking grim all the time. Come on, boys, let's go kill some boar! Come on, you. Stop. STOP. Are you completely mad? He saw us. It's all right. It's all right. He saw us! I heard you the first time. Quite the little climber, aren't you? How old are you, boy? Ten Ten. The things I do for love.\""
      ]
     },
     "execution_count": 82,
     "metadata": {},
     "output_type": "execute_result"
    }
   ],
   "source": [
    "script"
   ]
  },
  {
   "cell_type": "code",
   "execution_count": 86,
   "metadata": {},
   "outputs": [
    {
     "name": "stderr",
     "output_type": "stream",
     "text": [
      "'import' is not recognized as an internal or external command,\n",
      "operable program or batch file.\n",
      "[nltk_data] Downloading package punkt_tab to\n",
      "[nltk_data]     C:\\Users\\navne\\AppData\\Roaming\\nltk_data...\n",
      "[nltk_data]   Unzipping tokenizers\\punkt_tab.zip.\n"
     ]
    },
    {
     "data": {
      "text/plain": [
       "True"
      ]
     },
     "execution_count": 86,
     "metadata": {},
     "output_type": "execute_result"
    }
   ],
   "source": [
    "!import nltk\n",
    "nltk.download('punkt_tab')"
   ]
  },
  {
   "cell_type": "code",
   "execution_count": 87,
   "metadata": {},
   "outputs": [
    {
     "data": {
      "text/plain": [
       "['What do you expect?',\n",
       " \"They're savages.\",\n",
       " \"One lot steals a goat from another lot and before you know it, they're ripping each other to pieces.\"]"
      ]
     },
     "execution_count": 87,
     "metadata": {},
     "output_type": "execute_result"
    }
   ],
   "source": [
    "script_sentences = sent_tokenize(script)\n",
    "script_sentences[:3]"
   ]
  },
  {
   "cell_type": "code",
   "execution_count": 88,
   "metadata": {},
   "outputs": [],
   "source": [
    "# Batch Sentence\n",
    "sentence_batch_size=20\n",
    "script_batches = []\n",
    "for index in range(0,len(script_sentences),sentence_batch_size):\n",
    "    sent = \" \".join(script_sentences[index:index+sentence_batch_size])\n",
    "    script_batches.append(sent)"
   ]
  },
  {
   "cell_type": "code",
   "execution_count": 99,
   "metadata": {},
   "outputs": [
    {
     "data": {
      "text/plain": [
       "[\"What do you expect? They're savages. One lot steals a goat from another lot and before you know it, they're ripping each other to pieces. I've never seen wildlings do a thing like this. I've never seen a thing like this, not ever in my life. How close did you get? Close as any man would. We should head back to the wall. Do the dead frighten you? Our orders were to track the wildlings. We tracked them. They won't trouble us no more. You don't think he'll ask us how they died? Get back on your horse. Whatever did it to them could do it to us. They even killed the children. It's a good thing we're not children. You want to run away south, run away. Of course, they will behead you as a deserter … If I don't catch you first. Get back on your horse.\",\n",
       " \"I won't say it again. Your dead men seem to have moved camp. They were here. See where they went. What is it? It's … Go on. Father's watching. And your mother. Fine work, as always. Well done. Thank you. I love the detail that you've managed to get in this corners. … Quite beautiful … the stitching … And which one of you was a marksman at ten? Keep practicing, Bran. Go on. Don't think too much, Bran. Relax your bow arm. Quick, Bran, faster! Lord Stark. My lady.\",\n",
       " \"A guardsman just rode in from the hills. They've captured a deserter from the Night's Watch. Get the lads to saddle their horses. Do you have to? He swore an oath, Cat. The law is law, my lady. Tell Bran he's coming, too. Ned. Ten is too young to see such things. He won't be a boy forever. And winter is coming. Lad, go run back and get the rest. White Walkers. I saw the White Walkers. White Walkers. The White Walkers, I saw them. I know I broke my oath. And I know I'm a deserter. I should have gone back to the Wall and warned them. But I saw what I saw.\",\n",
       " \"I saw the White Walkers. People need to know. If you can get word to my family, tell them I'm no coward. Tell them I'm sorry. nods yes, and WILL is positioned on the tree limb that serves as a block. Forgive me, lord. In the name of Robert of the House Baratheon, first of his name … Don't look away. King of the Andals and the First Men … Father will know if you do. Lord of the Seven Kingdoms and protector of the realm, I, Eddard of the House Stark, Lord of Winterfell and Warden of the North, sentence you to die. You did well. You understand why I did it? Jon said he was a deserter. But do you understand why I had to kill him? Our way is the old way? The man who passes the sentence should swing the sword. Is it true he saw the White Walkers? The White Walkers have been gone for thousands of years. So he was lying? A madman sees what he sees. What is it?\",\n",
       " \"Mountain lion? There are no mountain lions in these woods. It's a freak. It's a direwolf. Tough old beast. There are no direwolves south of the Wall. Now there are five. You want to hold it? Where will they go? Their mother's dead. They don't belong down here. Better a quick death. They won't last without their mother. Right. Give it here. NO! Put away your blade. I take orders from your father, not you. Please, father! I'm sorry, Bran.\"]"
      ]
     },
     "execution_count": 99,
     "metadata": {},
     "output_type": "execute_result"
    }
   ],
   "source": [
    "script_batches[:5]"
   ]
  },
  {
   "cell_type": "code",
   "execution_count": 100,
   "metadata": {},
   "outputs": [],
   "source": [
    "theme_list = [\"friendship\",\"hope\",\"arrogance\",\"battle\",\"fear\",\"betrayal\",\"love\",\"dialogue\"]"
   ]
  },
  {
   "cell_type": "code",
   "execution_count": 102,
   "metadata": {},
   "outputs": [],
   "source": [
    "theme_output = theme_classifier(\n",
    "    script_batches[:5],\n",
    "    theme_list,\n",
    "    multi_label=True\n",
    ")"
   ]
  },
  {
   "cell_type": "code",
   "execution_count": 103,
   "metadata": {},
   "outputs": [
    {
     "data": {
      "text/plain": [
       "[{'sequence': \"What do you expect? They're savages. One lot steals a goat from another lot and before you know it, they're ripping each other to pieces. I've never seen wildlings do a thing like this. I've never seen a thing like this, not ever in my life. How close did you get? Close as any man would. We should head back to the wall. Do the dead frighten you? Our orders were to track the wildlings. We tracked them. They won't trouble us no more. You don't think he'll ask us how they died? Get back on your horse. Whatever did it to them could do it to us. They even killed the children. It's a good thing we're not children. You want to run away south, run away. Of course, they will behead you as a deserter … If I don't catch you first. Get back on your horse.\",\n",
       "  'labels': ['fear',\n",
       "   'dialogue',\n",
       "   'betrayal',\n",
       "   'arrogance',\n",
       "   'battle',\n",
       "   'hope',\n",
       "   'friendship',\n",
       "   'love'],\n",
       "  'scores': [0.9723045825958252,\n",
       "   0.9718348383903503,\n",
       "   0.9577839970588684,\n",
       "   0.9164268374443054,\n",
       "   0.8517799377441406,\n",
       "   0.3809930384159088,\n",
       "   0.1025291457772255,\n",
       "   0.08297116309404373]},\n",
       " {'sequence': \"I won't say it again. Your dead men seem to have moved camp. They were here. See where they went. What is it? It's … Go on. Father's watching. And your mother. Fine work, as always. Well done. Thank you. I love the detail that you've managed to get in this corners. … Quite beautiful … the stitching … And which one of you was a marksman at ten? Keep practicing, Bran. Go on. Don't think too much, Bran. Relax your bow arm. Quick, Bran, faster! Lord Stark. My lady.\",\n",
       "  'labels': ['dialogue',\n",
       "   'battle',\n",
       "   'hope',\n",
       "   'love',\n",
       "   'arrogance',\n",
       "   'fear',\n",
       "   'friendship',\n",
       "   'betrayal'],\n",
       "  'scores': [0.6970103979110718,\n",
       "   0.3653840720653534,\n",
       "   0.29389357566833496,\n",
       "   0.21439982950687408,\n",
       "   0.19635573029518127,\n",
       "   0.1469043493270874,\n",
       "   0.12644441425800323,\n",
       "   0.07876160740852356]},\n",
       " {'sequence': \"A guardsman just rode in from the hills. They've captured a deserter from the Night's Watch. Get the lads to saddle their horses. Do you have to? He swore an oath, Cat. The law is law, my lady. Tell Bran he's coming, too. Ned. Ten is too young to see such things. He won't be a boy forever. And winter is coming. Lad, go run back and get the rest. White Walkers. I saw the White Walkers. White Walkers. The White Walkers, I saw them. I know I broke my oath. And I know I'm a deserter. I should have gone back to the Wall and warned them. But I saw what I saw.\",\n",
       "  'labels': ['betrayal',\n",
       "   'dialogue',\n",
       "   'fear',\n",
       "   'battle',\n",
       "   'arrogance',\n",
       "   'friendship',\n",
       "   'hope',\n",
       "   'love'],\n",
       "  'scores': [0.9846722483634949,\n",
       "   0.9695620536804199,\n",
       "   0.8727321624755859,\n",
       "   0.8646760582923889,\n",
       "   0.8308796286582947,\n",
       "   0.8130766749382019,\n",
       "   0.7539532780647278,\n",
       "   0.31558719277381897]},\n",
       " {'sequence': \"I saw the White Walkers. People need to know. If you can get word to my family, tell them I'm no coward. Tell them I'm sorry. nods yes, and WILL is positioned on the tree limb that serves as a block. Forgive me, lord. In the name of Robert of the House Baratheon, first of his name … Don't look away. King of the Andals and the First Men … Father will know if you do. Lord of the Seven Kingdoms and protector of the realm, I, Eddard of the House Stark, Lord of Winterfell and Warden of the North, sentence you to die. You did well. You understand why I did it? Jon said he was a deserter. But do you understand why I had to kill him? Our way is the old way? The man who passes the sentence should swing the sword. Is it true he saw the White Walkers? The White Walkers have been gone for thousands of years. So he was lying? A madman sees what he sees. What is it?\",\n",
       "  'labels': ['dialogue',\n",
       "   'betrayal',\n",
       "   'battle',\n",
       "   'arrogance',\n",
       "   'fear',\n",
       "   'hope',\n",
       "   'love',\n",
       "   'friendship'],\n",
       "  'scores': [0.9711748361587524,\n",
       "   0.9128589034080505,\n",
       "   0.8867540955543518,\n",
       "   0.6836366057395935,\n",
       "   0.5924902558326721,\n",
       "   0.46362969279289246,\n",
       "   0.12182699143886566,\n",
       "   0.08489219844341278]},\n",
       " {'sequence': \"Mountain lion? There are no mountain lions in these woods. It's a freak. It's a direwolf. Tough old beast. There are no direwolves south of the Wall. Now there are five. You want to hold it? Where will they go? Their mother's dead. They don't belong down here. Better a quick death. They won't last without their mother. Right. Give it here. NO! Put away your blade. I take orders from your father, not you. Please, father! I'm sorry, Bran.\",\n",
       "  'labels': ['betrayal',\n",
       "   'dialogue',\n",
       "   'fear',\n",
       "   'battle',\n",
       "   'arrogance',\n",
       "   'friendship',\n",
       "   'hope',\n",
       "   'love'],\n",
       "  'scores': [0.9492908716201782,\n",
       "   0.8923211097717285,\n",
       "   0.817520022392273,\n",
       "   0.7925363183021545,\n",
       "   0.6972675323486328,\n",
       "   0.19695976376533508,\n",
       "   0.1049015149474144,\n",
       "   0.08223509788513184]}]"
      ]
     },
     "execution_count": 103,
     "metadata": {},
     "output_type": "execute_result"
    }
   ],
   "source": [
    "theme_output"
   ]
  },
  {
   "cell_type": "code",
   "execution_count": 104,
   "metadata": {},
   "outputs": [],
   "source": [
    "# Wrangle Ouput\n",
    "# battle: [0.51489498, 0.2156498]\n",
    "themes = {}\n",
    "for output in theme_output:\n",
    "    for label,score in zip(output['labels'],output['scores']):\n",
    "        if label not in themes:\n",
    "            themes[label] = []\n",
    "        themes[label].append(score)"
   ]
  },
  {
   "cell_type": "code",
   "execution_count": 105,
   "metadata": {},
   "outputs": [],
   "source": [
    "themes = {key: np.mean(np.array(value)) for key,value in themes.items()}"
   ]
  },
  {
   "cell_type": "code",
   "execution_count": 109,
   "metadata": {},
   "outputs": [
    {
     "data": {
      "text/plain": [
       "{'fear': 0.6803902745246887,\n",
       " 'dialogue': 0.9003806471824646,\n",
       " 'betrayal': 0.7766735255718231,\n",
       " 'arrogance': 0.6649132668972015,\n",
       " 'battle': 0.7522260963916778,\n",
       " 'hope': 0.3994742199778557,\n",
       " 'friendship': 0.2647804394364357,\n",
       " 'love': 0.16340405493974686}"
      ]
     },
     "execution_count": 109,
     "metadata": {},
     "output_type": "execute_result"
    }
   ],
   "source": [
    "themes"
   ]
  },
  {
   "cell_type": "code",
   "execution_count": 110,
   "metadata": {},
   "outputs": [],
   "source": [
    "def get_themes_inference(script):\n",
    "    script_sentences = sent_tokenize(script)\n",
    "\n",
    "    # Batch Sentence\n",
    "    sentence_batch_size=20\n",
    "    script_batches = []\n",
    "    for index in range(0,len(script_sentences),sentence_batch_size):\n",
    "        sent = \" \".join(script_sentences[index:index+sentence_batch_size])\n",
    "        script_batches.append(sent)\n",
    "    \n",
    "    # Run Model\n",
    "    theme_output = theme_classifier(\n",
    "        script_batches[:2],\n",
    "        theme_list,\n",
    "        multi_label=True\n",
    "    )\n",
    "\n",
    "    # Wrangle Output \n",
    "    themes = {}\n",
    "    for output in theme_output:\n",
    "        for label,score in zip(output['labels'],output['scores']):\n",
    "            if label not in themes:\n",
    "                themes[label] = []\n",
    "            themes[label].append(score)\n",
    "\n",
    "    themes = {key: np.mean(np.array(value)) for key,value in themes.items()}\n",
    "\n",
    "    return themes"
   ]
  },
  {
   "cell_type": "code",
   "execution_count": 111,
   "metadata": {},
   "outputs": [],
   "source": [
    "df = df.head(2)"
   ]
  },
  {
   "cell_type": "code",
   "execution_count": 112,
   "metadata": {},
   "outputs": [],
   "source": [
    "output_themes = df['Subtitles'].apply(get_themes_inference)"
   ]
  },
  {
   "cell_type": "code",
   "execution_count": 113,
   "metadata": {},
   "outputs": [
    {
     "data": {
      "text/plain": [
       "0    {'fear': 0.5596044659614563, 'dialogue': 0.834...\n",
       "1    {'dialogue': 0.9263494908809662, 'betrayal': 0...\n",
       "Name: Subtitles, dtype: object"
      ]
     },
     "execution_count": 113,
     "metadata": {},
     "output_type": "execute_result"
    }
   ],
   "source": [
    "output_themes"
   ]
  },
  {
   "cell_type": "code",
   "execution_count": 114,
   "metadata": {},
   "outputs": [],
   "source": [
    "theme_df = pd.DataFrame(output_themes.tolist())"
   ]
  },
  {
   "cell_type": "code",
   "execution_count": 115,
   "metadata": {},
   "outputs": [
    {
     "data": {
      "text/html": [
       "<div>\n",
       "<style scoped>\n",
       "    .dataframe tbody tr th:only-of-type {\n",
       "        vertical-align: middle;\n",
       "    }\n",
       "\n",
       "    .dataframe tbody tr th {\n",
       "        vertical-align: top;\n",
       "    }\n",
       "\n",
       "    .dataframe thead th {\n",
       "        text-align: right;\n",
       "    }\n",
       "</style>\n",
       "<table border=\"1\" class=\"dataframe\">\n",
       "  <thead>\n",
       "    <tr style=\"text-align: right;\">\n",
       "      <th></th>\n",
       "      <th>fear</th>\n",
       "      <th>dialogue</th>\n",
       "      <th>betrayal</th>\n",
       "      <th>arrogance</th>\n",
       "      <th>battle</th>\n",
       "      <th>hope</th>\n",
       "      <th>friendship</th>\n",
       "      <th>love</th>\n",
       "    </tr>\n",
       "  </thead>\n",
       "  <tbody>\n",
       "    <tr>\n",
       "      <th>0</th>\n",
       "      <td>0.559604</td>\n",
       "      <td>0.834423</td>\n",
       "      <td>0.518273</td>\n",
       "      <td>0.556391</td>\n",
       "      <td>0.608582</td>\n",
       "      <td>0.337443</td>\n",
       "      <td>0.114487</td>\n",
       "      <td>0.148685</td>\n",
       "    </tr>\n",
       "    <tr>\n",
       "      <th>1</th>\n",
       "      <td>0.535356</td>\n",
       "      <td>0.926349</td>\n",
       "      <td>0.541051</td>\n",
       "      <td>0.527074</td>\n",
       "      <td>0.512554</td>\n",
       "      <td>0.630392</td>\n",
       "      <td>0.352747</td>\n",
       "      <td>0.248005</td>\n",
       "    </tr>\n",
       "  </tbody>\n",
       "</table>\n",
       "</div>"
      ],
      "text/plain": [
       "       fear  dialogue  betrayal  arrogance    battle      hope  friendship  \\\n",
       "0  0.559604  0.834423  0.518273   0.556391  0.608582  0.337443    0.114487   \n",
       "1  0.535356  0.926349  0.541051   0.527074  0.512554  0.630392    0.352747   \n",
       "\n",
       "       love  \n",
       "0  0.148685  \n",
       "1  0.248005  "
      ]
     },
     "execution_count": 115,
     "metadata": {},
     "output_type": "execute_result"
    }
   ],
   "source": [
    "theme_df"
   ]
  },
  {
   "cell_type": "code",
   "execution_count": 117,
   "metadata": {},
   "outputs": [
    {
     "data": {
      "text/html": [
       "<div>\n",
       "<style scoped>\n",
       "    .dataframe tbody tr th:only-of-type {\n",
       "        vertical-align: middle;\n",
       "    }\n",
       "\n",
       "    .dataframe tbody tr th {\n",
       "        vertical-align: top;\n",
       "    }\n",
       "\n",
       "    .dataframe thead th {\n",
       "        text-align: right;\n",
       "    }\n",
       "</style>\n",
       "<table border=\"1\" class=\"dataframe\">\n",
       "  <thead>\n",
       "    <tr style=\"text-align: right;\">\n",
       "      <th></th>\n",
       "      <th>season_episode</th>\n",
       "      <th>Subtitles</th>\n",
       "      <th>fear</th>\n",
       "      <th>dialogue</th>\n",
       "      <th>betrayal</th>\n",
       "      <th>arrogance</th>\n",
       "      <th>battle</th>\n",
       "      <th>hope</th>\n",
       "      <th>friendship</th>\n",
       "      <th>love</th>\n",
       "    </tr>\n",
       "  </thead>\n",
       "  <tbody>\n",
       "    <tr>\n",
       "      <th>0</th>\n",
       "      <td>1</td>\n",
       "      <td>What do you expect? They're savages. One lot s...</td>\n",
       "      <td>0.559604</td>\n",
       "      <td>0.834423</td>\n",
       "      <td>0.518273</td>\n",
       "      <td>0.556391</td>\n",
       "      <td>0.608582</td>\n",
       "      <td>0.337443</td>\n",
       "      <td>0.114487</td>\n",
       "      <td>0.148685</td>\n",
       "    </tr>\n",
       "    <tr>\n",
       "      <th>1</th>\n",
       "      <td>2</td>\n",
       "      <td>You need to drink, child... And eat. Isn't the...</td>\n",
       "      <td>0.535356</td>\n",
       "      <td>0.926349</td>\n",
       "      <td>0.541051</td>\n",
       "      <td>0.527074</td>\n",
       "      <td>0.512554</td>\n",
       "      <td>0.630392</td>\n",
       "      <td>0.352747</td>\n",
       "      <td>0.248005</td>\n",
       "    </tr>\n",
       "  </tbody>\n",
       "</table>\n",
       "</div>"
      ],
      "text/plain": [
       "   season_episode                                          Subtitles  \\\n",
       "0               1  What do you expect? They're savages. One lot s...   \n",
       "1               2  You need to drink, child... And eat. Isn't the...   \n",
       "\n",
       "       fear  dialogue  betrayal  arrogance    battle      hope  friendship  \\\n",
       "0  0.559604  0.834423  0.518273   0.556391  0.608582  0.337443    0.114487   \n",
       "1  0.535356  0.926349  0.541051   0.527074  0.512554  0.630392    0.352747   \n",
       "\n",
       "       love  \n",
       "0  0.148685  \n",
       "1  0.248005  "
      ]
     },
     "execution_count": 117,
     "metadata": {},
     "output_type": "execute_result"
    }
   ],
   "source": [
    "df"
   ]
  },
  {
   "cell_type": "code",
   "execution_count": 116,
   "metadata": {},
   "outputs": [
    {
     "data": {
      "text/html": [
       "<div>\n",
       "<style scoped>\n",
       "    .dataframe tbody tr th:only-of-type {\n",
       "        vertical-align: middle;\n",
       "    }\n",
       "\n",
       "    .dataframe tbody tr th {\n",
       "        vertical-align: top;\n",
       "    }\n",
       "\n",
       "    .dataframe thead th {\n",
       "        text-align: right;\n",
       "    }\n",
       "</style>\n",
       "<table border=\"1\" class=\"dataframe\">\n",
       "  <thead>\n",
       "    <tr style=\"text-align: right;\">\n",
       "      <th></th>\n",
       "      <th>season_episode</th>\n",
       "      <th>Subtitles</th>\n",
       "      <th>fear</th>\n",
       "      <th>dialogue</th>\n",
       "      <th>betrayal</th>\n",
       "      <th>arrogance</th>\n",
       "      <th>battle</th>\n",
       "      <th>hope</th>\n",
       "      <th>friendship</th>\n",
       "      <th>love</th>\n",
       "    </tr>\n",
       "  </thead>\n",
       "  <tbody>\n",
       "    <tr>\n",
       "      <th>0</th>\n",
       "      <td>1</td>\n",
       "      <td>What do you expect? They're savages. One lot s...</td>\n",
       "      <td>0.559604</td>\n",
       "      <td>0.834423</td>\n",
       "      <td>0.518273</td>\n",
       "      <td>0.556391</td>\n",
       "      <td>0.608582</td>\n",
       "      <td>0.337443</td>\n",
       "      <td>0.114487</td>\n",
       "      <td>0.148685</td>\n",
       "    </tr>\n",
       "    <tr>\n",
       "      <th>1</th>\n",
       "      <td>2</td>\n",
       "      <td>You need to drink, child... And eat. Isn't the...</td>\n",
       "      <td>0.535356</td>\n",
       "      <td>0.926349</td>\n",
       "      <td>0.541051</td>\n",
       "      <td>0.527074</td>\n",
       "      <td>0.512554</td>\n",
       "      <td>0.630392</td>\n",
       "      <td>0.352747</td>\n",
       "      <td>0.248005</td>\n",
       "    </tr>\n",
       "  </tbody>\n",
       "</table>\n",
       "</div>"
      ],
      "text/plain": [
       "   season_episode                                          Subtitles  \\\n",
       "0               1  What do you expect? They're savages. One lot s...   \n",
       "1               2  You need to drink, child... And eat. Isn't the...   \n",
       "\n",
       "       fear  dialogue  betrayal  arrogance    battle      hope  friendship  \\\n",
       "0  0.559604  0.834423  0.518273   0.556391  0.608582  0.337443    0.114487   \n",
       "1  0.535356  0.926349  0.541051   0.527074  0.512554  0.630392    0.352747   \n",
       "\n",
       "       love  \n",
       "0  0.148685  \n",
       "1  0.248005  "
      ]
     },
     "execution_count": 116,
     "metadata": {},
     "output_type": "execute_result"
    }
   ],
   "source": [
    "df[theme_df.columns] = theme_df\n",
    "df"
   ]
  },
  {
   "cell_type": "code",
   "execution_count": null,
   "metadata": {},
   "outputs": [],
   "source": []
  },
  {
   "cell_type": "code",
   "execution_count": null,
   "metadata": {},
   "outputs": [],
   "source": []
  },
  {
   "cell_type": "markdown",
   "metadata": {},
   "source": [
    "# Visualize ouput"
   ]
  },
  {
   "cell_type": "code",
   "execution_count": 119,
   "metadata": {},
   "outputs": [],
   "source": [
    "df = df.drop('dialogue',axis=1)"
   ]
  },
  {
   "cell_type": "code",
   "execution_count": 120,
   "metadata": {},
   "outputs": [
    {
     "data": {
      "text/html": [
       "<div>\n",
       "<style scoped>\n",
       "    .dataframe tbody tr th:only-of-type {\n",
       "        vertical-align: middle;\n",
       "    }\n",
       "\n",
       "    .dataframe tbody tr th {\n",
       "        vertical-align: top;\n",
       "    }\n",
       "\n",
       "    .dataframe thead th {\n",
       "        text-align: right;\n",
       "    }\n",
       "</style>\n",
       "<table border=\"1\" class=\"dataframe\">\n",
       "  <thead>\n",
       "    <tr style=\"text-align: right;\">\n",
       "      <th></th>\n",
       "      <th>theme</th>\n",
       "      <th>score</th>\n",
       "    </tr>\n",
       "  </thead>\n",
       "  <tbody>\n",
       "    <tr>\n",
       "      <th>0</th>\n",
       "      <td>fear</td>\n",
       "      <td>1.094961</td>\n",
       "    </tr>\n",
       "    <tr>\n",
       "      <th>1</th>\n",
       "      <td>betrayal</td>\n",
       "      <td>1.059324</td>\n",
       "    </tr>\n",
       "    <tr>\n",
       "      <th>2</th>\n",
       "      <td>arrogance</td>\n",
       "      <td>1.083465</td>\n",
       "    </tr>\n",
       "    <tr>\n",
       "      <th>3</th>\n",
       "      <td>battle</td>\n",
       "      <td>1.121136</td>\n",
       "    </tr>\n",
       "    <tr>\n",
       "      <th>4</th>\n",
       "      <td>hope</td>\n",
       "      <td>0.967835</td>\n",
       "    </tr>\n",
       "    <tr>\n",
       "      <th>5</th>\n",
       "      <td>friendship</td>\n",
       "      <td>0.467234</td>\n",
       "    </tr>\n",
       "    <tr>\n",
       "      <th>6</th>\n",
       "      <td>love</td>\n",
       "      <td>0.396691</td>\n",
       "    </tr>\n",
       "  </tbody>\n",
       "</table>\n",
       "</div>"
      ],
      "text/plain": [
       "        theme     score\n",
       "0        fear  1.094961\n",
       "1    betrayal  1.059324\n",
       "2   arrogance  1.083465\n",
       "3      battle  1.121136\n",
       "4        hope  0.967835\n",
       "5  friendship  0.467234\n",
       "6        love  0.396691"
      ]
     },
     "execution_count": 120,
     "metadata": {},
     "output_type": "execute_result"
    }
   ],
   "source": [
    "theme_output = df.drop(['season_episode'],axis=1).sum().reset_index()\n",
    "theme_output.columns = ['theme','score']\n",
    "theme_output"
   ]
  },
  {
   "cell_type": "code",
   "execution_count": 121,
   "metadata": {},
   "outputs": [],
   "source": [
    "import matplotlib.pyplot as plt\n",
    "import seaborn as sns"
   ]
  },
  {
   "cell_type": "code",
   "execution_count": 122,
   "metadata": {},
   "outputs": [
    {
     "data": {
      "image/png": "[encoded data removed]",
      "text/plain": [
       "<Figure size 640x480 with 1 Axes>"
      ]
     },
     "metadata": {},
     "output_type": "display_data"
    }
   ],
   "source": [
    "sns.barplot(data = theme_output ,x=\"theme\",y=\"score\" )\n",
    "plt.xticks(rotation=45)\n",
    "plt.show()"
   ]
  },
  {
   "cell_type": "code",
   "execution_count": null,
   "metadata": {},
   "outputs": [],
   "source": []
  },
  {
   "cell_type": "code",
   "execution_count": null,
   "metadata": {},
   "outputs": [],
   "source": []
  }
 ],
 "metadata": {
  "kernelspec": {
   "display_name": ".venv",
   "language": "python",
   "name": "python3"
  },
  "language_info": {
   "codemirror_mode": {
    "name": "ipython",
    "version": 3
   },
   "file_extension": ".py",
   "mimetype": "text/x-python",
   "name": "python",
   "nbconvert_exporter": "python",
   "pygments_lexer": "ipython3",
   "version": "3.10.11"
  }
 },
 "nbformat": 4,
 "nbformat_minor": 2
}
